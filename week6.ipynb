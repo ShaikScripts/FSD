{
 "cells": [
  {
   "cell_type": "code",
   "execution_count": 3,
   "id": "d83c9ef4-6add-47d0-9d67-9f07c5862539",
   "metadata": {},
   "outputs": [
    {
     "name": "stdout",
     "output_type": "stream",
     "text": [
      "probability of the observation sequence '['umbrella', 'normal', 'umbrella', 'raincoat']':0.0133\n"
     ]
    }
   ],
   "source": [
    "import numpy as np\n",
    "class HMM:\n",
    "    def __init__(self,states,observations):\n",
    "        self.states=states\n",
    "        self.n_states=len(states)\n",
    "        self.n_obs=len(observations)\n",
    "        self.state_index={state: i for i,state in enumerate(states)}\n",
    "        self.obs_index={obs: i for i,obs in enumerate(observations)}\n",
    "        self.A=np.array([\n",
    "            [0.6,0.3,0.1],\n",
    "            [0.2,0.5,0.3],\n",
    "            [0.1,0.4,0.5]\n",
    "        ])\n",
    "        self.B=np.array([\n",
    "            [0.8,0.15,0.05],\n",
    "            [0.3,0.4,0.3],\n",
    "            [0.1,0.2,0.7]\n",
    "        ])\n",
    "        self.pi=np.array([0.5,0.3,0.2])\n",
    "    def forward(self,obs_seq):\n",
    "        n=len(obs_seq)\n",
    "        alpha=np.zeros((n,self.n_states))\n",
    "        alpha[0]=self.pi*self.B[:,obs_seq[0]]\n",
    "        for t in range(1,n):\n",
    "            for j in range(self.n_states):\n",
    "                alpha[t,j]=(alpha[t-1]@self.A[:,j])*self.B[j,obs_seq[t]]\n",
    "        return alpha.sum(axis=1)[-1]\n",
    "        \n",
    "\n",
    "states=['sunny','cloudy','rainy']\n",
    "observations=['umbrella','normal','raincoat']\n",
    "hmm=HMM(states,observations)\n",
    "obs_seq=['umbrella','normal','umbrella','raincoat']\n",
    "obs_seq_indices=[hmm.obs_index[obs] for obs in obs_seq]\n",
    "prob=hmm.forward(obs_seq_indices)\n",
    "print(f\"probability of the observation sequence '{obs_seq}':{prob:.4f}\")#0.0133.\n"
   ]
  },
  {
   "cell_type": "code",
   "execution_count": null,
   "id": "46ee8e03-c604-4e91-8310-63f34282541b",
   "metadata": {},
   "outputs": [],
   "source": []
  }
 ],
 "metadata": {
  "kernelspec": {
   "display_name": "Python 3 (ipykernel)",
   "language": "python",
   "name": "python3"
  },
  "language_info": {
   "codemirror_mode": {
    "name": "ipython",
    "version": 3
   },
   "file_extension": ".py",
   "mimetype": "text/x-python",
   "name": "python",
   "nbconvert_exporter": "python",
   "pygments_lexer": "ipython3",
   "version": "3.12.4"
  }
 },
 "nbformat": 4,
 "nbformat_minor": 5
}
